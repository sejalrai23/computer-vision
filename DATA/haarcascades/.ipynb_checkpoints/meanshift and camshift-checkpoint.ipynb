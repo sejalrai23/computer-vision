{
 "cells": [
  {
   "cell_type": "code",
   "execution_count": 1,
   "metadata": {},
   "outputs": [],
   "source": [
    "import numpy as np\n",
    "import cv2\n"
   ]
  },
  {
   "cell_type": "code",
   "execution_count": null,
   "metadata": {},
   "outputs": [],
   "source": [
    "cap=cv2.VideoCapture(0)\n",
    "\n",
    "ret,frame=cap.read()\n",
    "\n",
    "face_cascade=cv2.CascadeClassifier('DATA/haarcascades/haarcascade_frontalface_defaukt.xml')\n",
    "face_rects=face_cascade.detectMultiScale(frame)\n",
    "\n",
    "(face_X,face_y,w,h)=tuple(face_rects[0])\n",
    "track_window=(face_x,face_y,w,h)\n",
    "\n",
    "roi=frame[face_y:face_y+h,face_X:face_x+w]\n",
    "\n",
    "hsv_roi=cv2.cvtColor(roi,cv2.COLOR_BGR2HSV)\n",
    "\n",
    "roi_hist=cv2.calcHist([hsv_roi],[0],None,[180],[0,180])\n",
    "\n",
    "cv2.normalize(roi_hist,roi_hist,0,255,cv2.NORM_MINMAX)\n",
    "\n",
    "term_crit=(cv2.TERM_CRITERIA_EPS | cv2.TERM_CRITERIA_COUNT,10,1)\n",
    "\n",
    "while True:\n",
    "    ret,frame=cap.read()\n",
    "    if ret=True:\n",
    "        hsv=cv2.cvtColor(frame,cv2.COLOR_BGR2HSV)\n",
    "        \n",
    "        dst=cv2.calcBACKProject([hsv],[0],roi_hist,[0,180],1)\n",
    "\n",
    "\n",
    "\n",
    "\n"
   ]
  }
 ],
 "metadata": {
  "kernelspec": {
   "display_name": "Python 3",
   "language": "python",
   "name": "python3"
  },
  "language_info": {
   "codemirror_mode": {
    "name": "ipython",
    "version": 3
   },
   "file_extension": ".py",
   "mimetype": "text/x-python",
   "name": "python",
   "nbconvert_exporter": "python",
   "pygments_lexer": "ipython3",
   "version": "3.7.4"
  }
 },
 "nbformat": 4,
 "nbformat_minor": 4
}
