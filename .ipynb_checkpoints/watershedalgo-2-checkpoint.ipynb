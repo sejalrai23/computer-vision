{
 "cells": [
  {
   "cell_type": "code",
   "execution_count": 1,
   "metadata": {},
   "outputs": [],
   "source": [
    "import cv2\n",
    "import numpy as np\n",
    "import matplotlib.pyplot as plt\n",
    "%matplotlib inline"
   ]
  },
  {
   "cell_type": "code",
   "execution_count": 2,
   "metadata": {},
   "outputs": [],
   "source": [
    "road=cv2.imread('DATA/road_image.jpg')"
   ]
  },
  {
   "cell_type": "code",
   "execution_count": 3,
   "metadata": {},
   "outputs": [],
   "source": [
    "road_copy=np.copy(road)"
   ]
  },
  {
   "cell_type": "code",
   "execution_count": 4,
   "metadata": {},
   "outputs": [],
   "source": [
    "# def display(img,cmap=\"gray\"):\n",
    "#     fig=plt.figure(figsize=(12,10))\n",
    "#     ax=fig.add_subplot(111)\n",
    "#     ax.imshow(img,cmap=\"gray\")"
   ]
  },
  {
   "cell_type": "code",
   "execution_count": 5,
   "metadata": {},
   "outputs": [],
   "source": [
    "# display(road)"
   ]
  },
  {
   "cell_type": "code",
   "execution_count": 6,
   "metadata": {},
   "outputs": [],
   "source": [
    "marker_img=np.zeros(road.shape[:2],dtype=np.int32)"
   ]
  },
  {
   "cell_type": "code",
   "execution_count": 7,
   "metadata": {},
   "outputs": [],
   "source": [
    "segments=np.zeros(road.shape,dtype=np.uint8)"
   ]
  },
  {
   "cell_type": "code",
   "execution_count": 8,
   "metadata": {},
   "outputs": [],
   "source": [
    "from matplotlib import cm"
   ]
  },
  {
   "cell_type": "code",
   "execution_count": 9,
   "metadata": {},
   "outputs": [],
   "source": [
    "def create_rgb(i):\n",
    "    return tuple(np.array(cm.tab10(i)[:3])*255)\n"
   ]
  },
  {
   "cell_type": "code",
   "execution_count": 10,
   "metadata": {},
   "outputs": [],
   "source": [
    "colors=[]\n",
    "for i in range(10):\n",
    "    colors.append(create_rgb(i))"
   ]
  },
  {
   "cell_type": "code",
   "execution_count": 11,
   "metadata": {},
   "outputs": [
    {
     "data": {
      "text/plain": [
       "[(31.0, 119.0, 180.0),\n",
       " (255.0, 127.0, 14.0),\n",
       " (44.0, 160.0, 44.0),\n",
       " (214.0, 39.0, 40.0),\n",
       " (148.0, 103.0, 189.0),\n",
       " (140.0, 86.0, 75.0),\n",
       " (227.0, 119.0, 194.0),\n",
       " (127.0, 127.0, 127.0),\n",
       " (188.0, 189.0, 34.0),\n",
       " (23.0, 190.0, 207.0)]"
      ]
     },
     "execution_count": 11,
     "metadata": {},
     "output_type": "execute_result"
    }
   ],
   "source": [
    "colors"
   ]
  },
  {
   "cell_type": "code",
   "execution_count": 12,
   "metadata": {},
   "outputs": [],
   "source": [
    "#global variables\n",
    "#color choice\n",
    "n_markers=10  #0-9\n",
    "current_marker=1\n",
    "#markers_updated by watershed\n",
    "marks_updated=False\n"
   ]
  },
  {
   "cell_type": "code",
   "execution_count": 13,
   "metadata": {},
   "outputs": [],
   "source": [
    "#callback function\n",
    "def mouse_callback(event,x,y,flags,param):\n",
    "    global marks_updated\n",
    "    if event==cv2.EVENT_LBUTTONDOWN:\n",
    "        cv2.circle(marker_img,(x,y),10,(current_marker),-1)\n",
    "        \n",
    "        #user sees on the road image\n",
    "        cv2.circle(road_copy,(x,y),10,colors[current_marker],-1)\n",
    "        \n",
    "        marks_updated=True"
   ]
  },
  {
   "cell_type": "code",
   "execution_count": null,
   "metadata": {},
   "outputs": [],
   "source": [
    "#while true\n",
    "cv2.namedWindow('Road Image')\n",
    "cv2.setMouseCallback('Road Image',mouse_callback)\n",
    "\n",
    "while True:\n",
    "    cv2.imshow('Watershed Segments',segments)\n",
    "    cv2.imshow('Road Image',road_copy)\n",
    "    \n",
    "    #close all windows\n",
    "    k=cv2.waitKey(1)\n",
    "    \n",
    "    if k==27:\n",
    "        break;\n",
    "        \n",
    "    #clearing all the colors on pressing c key\n",
    "    \n",
    "    elif k==ord('c'):\n",
    "        road_copy=road.copy()\n",
    "        marker_img=np.zeros(road.shape[:2],dtype=np.int32)\n",
    "        segments=np.zeros(road.shape,dtype=np.uint8)\n",
    "        \n",
    "        \n",
    "    #update color choice\n",
    "    elif k>0 and chr(k).isdigit():\n",
    "        current_marker=int(chr(k))\n",
    "        \n",
    "        \n",
    "    #update markings\n",
    "    if marks_updated:\n",
    "        marker_img_Copy=marker_img.copy()\n",
    "        cv2.watershed(road,marker_img_Copy)\n",
    "        segments=np.zeros(road.shape,dtype=np.uint8)\n",
    "        \n",
    "        for color_ind in range(n_markers):\n",
    "            #coloring index\n",
    "            segments[marker_img_Copy==(color_ind)]=colors[color_ind]\n",
    "        \n",
    "        \n",
    "    \n",
    "    \n",
    "    \n",
    "    \n",
    "cv2.destroyAllWindows()\n",
    "    \n",
    "    \n",
    "\n"
   ]
  },
  {
   "cell_type": "code",
   "execution_count": null,
   "metadata": {},
   "outputs": [],
   "source": []
  }
 ],
 "metadata": {
  "kernelspec": {
   "display_name": "Python 3",
   "language": "python",
   "name": "python3"
  },
  "language_info": {
   "codemirror_mode": {
    "name": "ipython",
    "version": 3
   },
   "file_extension": ".py",
   "mimetype": "text/x-python",
   "name": "python",
   "nbconvert_exporter": "python",
   "pygments_lexer": "ipython3",
   "version": "3.7.4"
  }
 },
 "nbformat": 4,
 "nbformat_minor": 4
}
