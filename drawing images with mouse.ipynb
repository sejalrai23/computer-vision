{
 "cells": [
  {
   "cell_type": "code",
   "execution_count": 8,
   "metadata": {},
   "outputs": [],
   "source": [
    "import cv2\n",
    "import numpy as np\n",
    "\n",
    "\n",
    "\n",
    "def draw_circle(event,x,y,flags,params):\n",
    "    if event ==cv2.EVENT_LBUTTONDOWN:\n",
    "        cv2.circle(img,(x,y),50,(100,0,200),-1)\n",
    "    elif event ==cv2.EVENT_RBUTTONDOWN:\n",
    "        cv2.circle(img,(x,y),50,(255,0,0),2)\n",
    "        \n",
    "cv2.namedWindow(winname=\"my-image\")\n",
    "cv2.setMouseCallback('my-image',draw_circle)\n",
    "\n",
    "img=np.zeros(shape=(512,512,3))\n",
    "\n",
    "while True:\n",
    "    cv2.imshow('my-image',img)\n",
    "    if cv2.waitKey(20) &0xFF==27:\n",
    "        break\n",
    "cv2.destroyAllWindows()"
   ]
  },
  {
   "cell_type": "code",
   "execution_count": 12,
   "metadata": {},
   "outputs": [],
   "source": [
    "import cv2\n",
    "import numpy as np\n",
    "\n",
    "#true while mouse button down ,false while mouse button up\n",
    "\n",
    "drawing=False\n",
    "ix,iy=-1,-1\n",
    "\n",
    "\n",
    "def draw_rect(event,x,y,flags,params):\n",
    "    global ix ,iy,drawing\n",
    "    if event==cv2.EVENT_LBUTTONDOWN:\n",
    "        drawing=True\n",
    "        ix,iy=x,y\n",
    "    elif event==cv2.EVENT_MOUSEMOVE:\n",
    "        if drawing==True:\n",
    "            cv2.rectangle(img,(ix,iy),(x,y),(0,0,255),-1)\n",
    "            \n",
    "    elif event==cv2.EVENT_LBUTTONUP:\n",
    "        drawing=False\n",
    "        cv2.rectangle(img,(ix,iy),(x,y),(0,0,255),-1)\n",
    "    \n",
    "\n",
    "img=np.zeros(shape=(512,512,3))\n",
    "cv2.namedWindow(winname=\"mydraw\")\n",
    "cv2.setMouseCallback('mydraw',draw_rect)\n",
    "\n",
    "while True:\n",
    "    cv2.imshow(\"mydraw\",img)\n",
    "    if cv2.waitKey(20)&0xFF==27:\n",
    "        break\n",
    "cv2.destroyAllWindows()"
   ]
  },
  {
   "cell_type": "code",
   "execution_count": null,
   "metadata": {},
   "outputs": [],
   "source": []
  }
 ],
 "metadata": {
  "kernelspec": {
   "display_name": "Python 3",
   "language": "python",
   "name": "python3"
  },
  "language_info": {
   "codemirror_mode": {
    "name": "ipython",
    "version": 3
   },
   "file_extension": ".py",
   "mimetype": "text/x-python",
   "name": "python",
   "nbconvert_exporter": "python",
   "pygments_lexer": "ipython3",
   "version": "3.7.4"
  }
 },
 "nbformat": 4,
 "nbformat_minor": 4
}
